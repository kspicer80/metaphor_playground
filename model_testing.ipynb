{
 "cells": [
  {
   "cell_type": "code",
   "execution_count": 3,
   "metadata": {},
   "outputs": [],
   "source": [
    "import sklearn\n",
    "from sklearn.base import BaseEstimator, TransformerMixin\n",
    "from sklearn.pipeline import Pipeline\n",
    "from sklearn.svm import LinearSVC\n",
    "from sklearn.svm import SVC\n",
    "from sklearn.metrics import classification_report\n",
    "from sklearn.model_selection import train_test_split\n",
    "from sklearn.metrics import accuracy_score\n",
    "from transformers import AutoTokenizer, AutoModelForTokenClassification\n",
    "from transformers import pipeline\n",
    "import transformers\n",
    "import numpy as np\n",
    "import os\n",
    "import pandas as pd\n",
    "from sklearn.metrics import confusion_matrix\n",
    "import matplotlib.pyplot as plt\n",
    "import seaborn as sns\n",
    "import json\n",
    "\n",
    "model = AutoModelForTokenClassification.from_pretrained(\"lwachowiak/Metaphor-Detection-XLMR\")\n",
    "tokenizer = AutoTokenizer.from_pretrained(\"lwachowiak/Metaphor-Detection-XLMR\")\n",
    "metaphor_pipeline = pipeline(\"ner\", model=model, tokenizer=tokenizer, aggregation_strategy=\"simple\")\n",
    "\n",
    "def count_label_1(entities):\n",
    "        count = 0\n",
    "        for entity in entities:\n",
    "            if entity['entity_group'] == 'LABEL_1':\n",
    "                count += 1\n",
    "        return count\n",
    "\n",
    "df = pd.read_json('fitzgerald_babylon_annotated_v1.jsonl', lines=True)\n",
    "\n",
    "df['model_labels'] = df['text'].apply(lambda x: metaphor_pipeline(x))"
   ]
  },
  {
   "cell_type": "code",
   "execution_count": 4,
   "metadata": {},
   "outputs": [],
   "source": [
    "df['metaphor_counts'] = df['model_labels'].apply(count_label_1)\n",
    "df['metaphor_yes_or_no'] = np.where(df['metaphor_counts'] > 0, 'm', 'l')"
   ]
  },
  {
   "cell_type": "code",
   "execution_count": 5,
   "metadata": {},
   "outputs": [
    {
     "data": {
      "text/html": [
       "<div>\n",
       "<style scoped>\n",
       "    .dataframe tbody tr th:only-of-type {\n",
       "        vertical-align: middle;\n",
       "    }\n",
       "\n",
       "    .dataframe tbody tr th {\n",
       "        vertical-align: top;\n",
       "    }\n",
       "\n",
       "    .dataframe thead th {\n",
       "        text-align: right;\n",
       "    }\n",
       "</style>\n",
       "<table border=\"1\" class=\"dataframe\">\n",
       "  <thead>\n",
       "    <tr style=\"text-align: right;\">\n",
       "      <th></th>\n",
       "      <th>label</th>\n",
       "      <th>sentence_number</th>\n",
       "      <th>text</th>\n",
       "      <th>model_labels</th>\n",
       "      <th>metaphor_counts</th>\n",
       "      <th>metaphor_yes_or_no</th>\n",
       "    </tr>\n",
       "  </thead>\n",
       "  <tbody>\n",
       "    <tr>\n",
       "      <th>0</th>\n",
       "      <td>l</td>\n",
       "      <td>1</td>\n",
       "      <td>And where's Mr. Campbell?</td>\n",
       "      <td>[{'entity_group': 'LABEL_0', 'score': 0.999957...</td>\n",
       "      <td>0</td>\n",
       "      <td>l</td>\n",
       "    </tr>\n",
       "    <tr>\n",
       "      <th>1</th>\n",
       "      <td>l</td>\n",
       "      <td>2</td>\n",
       "      <td>Charlie asked.</td>\n",
       "      <td>[{'entity_group': 'LABEL_0', 'score': 0.999983...</td>\n",
       "      <td>0</td>\n",
       "      <td>l</td>\n",
       "    </tr>\n",
       "    <tr>\n",
       "      <th>2</th>\n",
       "      <td>l</td>\n",
       "      <td>3</td>\n",
       "      <td>Gone to Switzerland.</td>\n",
       "      <td>[{'entity_group': 'LABEL_0', 'score': 0.999958...</td>\n",
       "      <td>0</td>\n",
       "      <td>l</td>\n",
       "    </tr>\n",
       "    <tr>\n",
       "      <th>3</th>\n",
       "      <td>l</td>\n",
       "      <td>4</td>\n",
       "      <td>Mr. Campbell's a pretty sick man, Mr. Wales.</td>\n",
       "      <td>[{'entity_group': 'LABEL_0', 'score': 0.998679...</td>\n",
       "      <td>0</td>\n",
       "      <td>l</td>\n",
       "    </tr>\n",
       "    <tr>\n",
       "      <th>4</th>\n",
       "      <td>l</td>\n",
       "      <td>5</td>\n",
       "      <td>I'm sorry to hear that.</td>\n",
       "      <td>[{'entity_group': 'LABEL_0', 'score': 0.999972...</td>\n",
       "      <td>1</td>\n",
       "      <td>m</td>\n",
       "    </tr>\n",
       "  </tbody>\n",
       "</table>\n",
       "</div>"
      ],
      "text/plain": [
       "  label  sentence_number                                          text  \\\n",
       "0     l                1                     And where's Mr. Campbell?   \n",
       "1     l                2                                Charlie asked.   \n",
       "2     l                3                          Gone to Switzerland.   \n",
       "3     l                4  Mr. Campbell's a pretty sick man, Mr. Wales.   \n",
       "4     l                5                       I'm sorry to hear that.   \n",
       "\n",
       "                                        model_labels  metaphor_counts  \\\n",
       "0  [{'entity_group': 'LABEL_0', 'score': 0.999957...                0   \n",
       "1  [{'entity_group': 'LABEL_0', 'score': 0.999983...                0   \n",
       "2  [{'entity_group': 'LABEL_0', 'score': 0.999958...                0   \n",
       "3  [{'entity_group': 'LABEL_0', 'score': 0.998679...                0   \n",
       "4  [{'entity_group': 'LABEL_0', 'score': 0.999972...                1   \n",
       "\n",
       "  metaphor_yes_or_no  \n",
       "0                  l  \n",
       "1                  l  \n",
       "2                  l  \n",
       "3                  l  \n",
       "4                  m  "
      ]
     },
     "execution_count": 5,
     "metadata": {},
     "output_type": "execute_result"
    }
   ],
   "source": [
    "df.head()"
   ]
  },
  {
   "cell_type": "code",
   "execution_count": 6,
   "metadata": {},
   "outputs": [],
   "source": [
    "df['match'] = np.where(df['label'] == df['metaphor_yes_or_no'], 'Yes', 'No')"
   ]
  },
  {
   "cell_type": "code",
   "execution_count": 7,
   "metadata": {},
   "outputs": [
    {
     "data": {
      "text/html": [
       "<div>\n",
       "<style scoped>\n",
       "    .dataframe tbody tr th:only-of-type {\n",
       "        vertical-align: middle;\n",
       "    }\n",
       "\n",
       "    .dataframe tbody tr th {\n",
       "        vertical-align: top;\n",
       "    }\n",
       "\n",
       "    .dataframe thead th {\n",
       "        text-align: right;\n",
       "    }\n",
       "</style>\n",
       "<table border=\"1\" class=\"dataframe\">\n",
       "  <thead>\n",
       "    <tr style=\"text-align: right;\">\n",
       "      <th></th>\n",
       "      <th>label</th>\n",
       "      <th>sentence_number</th>\n",
       "      <th>text</th>\n",
       "      <th>model_labels</th>\n",
       "      <th>metaphor_counts</th>\n",
       "      <th>metaphor_yes_or_no</th>\n",
       "      <th>match</th>\n",
       "    </tr>\n",
       "  </thead>\n",
       "  <tbody>\n",
       "    <tr>\n",
       "      <th>0</th>\n",
       "      <td>l</td>\n",
       "      <td>1</td>\n",
       "      <td>And where's Mr. Campbell?</td>\n",
       "      <td>[{'entity_group': 'LABEL_0', 'score': 0.999957...</td>\n",
       "      <td>0</td>\n",
       "      <td>l</td>\n",
       "      <td>Yes</td>\n",
       "    </tr>\n",
       "    <tr>\n",
       "      <th>1</th>\n",
       "      <td>l</td>\n",
       "      <td>2</td>\n",
       "      <td>Charlie asked.</td>\n",
       "      <td>[{'entity_group': 'LABEL_0', 'score': 0.999983...</td>\n",
       "      <td>0</td>\n",
       "      <td>l</td>\n",
       "      <td>Yes</td>\n",
       "    </tr>\n",
       "    <tr>\n",
       "      <th>2</th>\n",
       "      <td>l</td>\n",
       "      <td>3</td>\n",
       "      <td>Gone to Switzerland.</td>\n",
       "      <td>[{'entity_group': 'LABEL_0', 'score': 0.999958...</td>\n",
       "      <td>0</td>\n",
       "      <td>l</td>\n",
       "      <td>Yes</td>\n",
       "    </tr>\n",
       "    <tr>\n",
       "      <th>3</th>\n",
       "      <td>l</td>\n",
       "      <td>4</td>\n",
       "      <td>Mr. Campbell's a pretty sick man, Mr. Wales.</td>\n",
       "      <td>[{'entity_group': 'LABEL_0', 'score': 0.998679...</td>\n",
       "      <td>0</td>\n",
       "      <td>l</td>\n",
       "      <td>Yes</td>\n",
       "    </tr>\n",
       "    <tr>\n",
       "      <th>4</th>\n",
       "      <td>l</td>\n",
       "      <td>5</td>\n",
       "      <td>I'm sorry to hear that.</td>\n",
       "      <td>[{'entity_group': 'LABEL_0', 'score': 0.999972...</td>\n",
       "      <td>1</td>\n",
       "      <td>m</td>\n",
       "      <td>No</td>\n",
       "    </tr>\n",
       "  </tbody>\n",
       "</table>\n",
       "</div>"
      ],
      "text/plain": [
       "  label  sentence_number                                          text  \\\n",
       "0     l                1                     And where's Mr. Campbell?   \n",
       "1     l                2                                Charlie asked.   \n",
       "2     l                3                          Gone to Switzerland.   \n",
       "3     l                4  Mr. Campbell's a pretty sick man, Mr. Wales.   \n",
       "4     l                5                       I'm sorry to hear that.   \n",
       "\n",
       "                                        model_labels  metaphor_counts  \\\n",
       "0  [{'entity_group': 'LABEL_0', 'score': 0.999957...                0   \n",
       "1  [{'entity_group': 'LABEL_0', 'score': 0.999983...                0   \n",
       "2  [{'entity_group': 'LABEL_0', 'score': 0.999958...                0   \n",
       "3  [{'entity_group': 'LABEL_0', 'score': 0.998679...                0   \n",
       "4  [{'entity_group': 'LABEL_0', 'score': 0.999972...                1   \n",
       "\n",
       "  metaphor_yes_or_no match  \n",
       "0                  l   Yes  \n",
       "1                  l   Yes  \n",
       "2                  l   Yes  \n",
       "3                  l   Yes  \n",
       "4                  m    No  "
      ]
     },
     "execution_count": 7,
     "metadata": {},
     "output_type": "execute_result"
    }
   ],
   "source": [
    "df.head()"
   ]
  },
  {
   "cell_type": "code",
   "execution_count": 9,
   "metadata": {},
   "outputs": [
    {
     "data": {
      "text/plain": [
       "Yes    55.775578\n",
       "No     44.224422\n",
       "Name: match, dtype: float64"
      ]
     },
     "execution_count": 9,
     "metadata": {},
     "output_type": "execute_result"
    }
   ],
   "source": [
    "counts = df['match'].value_counts(normalize=True) * 100\n",
    "counts"
   ]
  },
  {
   "cell_type": "code",
   "execution_count": null,
   "metadata": {},
   "outputs": [],
   "source": []
  }
 ],
 "metadata": {
  "kernelspec": {
   "display_name": "base",
   "language": "python",
   "name": "python3"
  },
  "language_info": {
   "codemirror_mode": {
    "name": "ipython",
    "version": 3
   },
   "file_extension": ".py",
   "mimetype": "text/x-python",
   "name": "python",
   "nbconvert_exporter": "python",
   "pygments_lexer": "ipython3",
   "version": "3.8.13"
  },
  "orig_nbformat": 4,
  "vscode": {
   "interpreter": {
    "hash": "78d19a50a75e94ed07337807a2a4b3949d01827c8c124a0ab734d87497f7b4dd"
   }
  }
 },
 "nbformat": 4,
 "nbformat_minor": 2
}
