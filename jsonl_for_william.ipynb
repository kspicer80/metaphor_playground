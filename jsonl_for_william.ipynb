{
 "cells": [
  {
   "cell_type": "code",
   "execution_count": 2,
   "metadata": {},
   "outputs": [],
   "source": [
    "import json\n",
    "\n",
    "file_path = 'fitzgerald_babylon_annotated_v1_for_drs.jsonl'\n",
    "\n",
    "new_key = \"annotator\"\n",
    "new_value = \"dr_s\"\n",
    "\n",
    "with open(file_path, \"r\") as file:\n",
    "    lines = file.readlines()\n",
    "\n",
    "updated_lines = []\n",
    "for line in lines:\n",
    "    data = json.loads(line)\n",
    "    data[new_key] = new_value\n",
    "    updated_lines.append(json.dumps(data))\n",
    "\n",
    "with open(file_path, \"w\") as file:\n",
    "    file.write('\\n'.join(updated_lines))"
   ]
  },
  {
   "cell_type": "code",
   "execution_count": 3,
   "metadata": {},
   "outputs": [],
   "source": [
    "from collections import OrderedDict\n",
    "\n",
    "# The path to the JSONL file\n",
    "file_path = 'fitzgerald_babylon_annotated_v1_for_william.jsonl'\n",
    "\n",
    "# The key order for the JSON objects\n",
    "key_order = [\"annotator\", \"sentence_number\", \"text\", \"label\"]\n",
    "\n",
    "# Read the JSONL file\n",
    "with open(file_path, \"r\") as file:\n",
    "    lines = file.readlines()\n",
    "\n",
    "# Update each line to reorder the keys\n",
    "updated_lines = []\n",
    "for line in lines:\n",
    "    data = json.loads(line)\n",
    "    ordered_data = OrderedDict((k, data[k]) for k in key_order if k in data)\n",
    "    updated_lines.append(json.dumps(ordered_data))\n",
    "\n",
    "# Write the updated lines back to the JSONL file\n",
    "with open(file_path, \"w\") as file:\n",
    "    file.write('\\n'.join(updated_lines))\n"
   ]
  },
  {
   "cell_type": "code",
   "execution_count": null,
   "metadata": {},
   "outputs": [],
   "source": []
  }
 ],
 "metadata": {
  "kernelspec": {
   "display_name": "python311",
   "language": "python",
   "name": "python3"
  },
  "language_info": {
   "codemirror_mode": {
    "name": "ipython",
    "version": 3
   },
   "file_extension": ".py",
   "mimetype": "text/x-python",
   "name": "python",
   "nbconvert_exporter": "python",
   "pygments_lexer": "ipython3",
   "version": "3.11.0"
  },
  "orig_nbformat": 4,
  "vscode": {
   "interpreter": {
    "hash": "4159a6653fa75438f66a7bfc0596de9be5c1734cbef8b4e22353e9d3f86b82c0"
   }
  }
 },
 "nbformat": 4,
 "nbformat_minor": 2
}
