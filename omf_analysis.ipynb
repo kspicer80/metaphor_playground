{
 "cells": [
  {
   "cell_type": "code",
   "execution_count": 35,
   "metadata": {},
   "outputs": [],
   "source": [
    "import pandas as pd\n",
    "\n",
    "df = pd.read_json('annotated_data/our_mutual_friend_dr_s_annotations.jsonl', lines=True)"
   ]
  },
  {
   "cell_type": "code",
   "execution_count": 36,
   "metadata": {},
   "outputs": [],
   "source": [
    "import sklearn\n",
    "from sklearn.pipeline import Pipeline\n",
    "from transformers import AutoTokenizer, AutoModelForTokenClassification\n",
    "from transformers import pipeline\n",
    "import transformers\n",
    "import pandas as pd\n",
    "from sklearn.metrics import confusion_matrix\n",
    "import matplotlib.pyplot as plt\n",
    "import seaborn as sns\n",
    "import json\n"
   ]
  },
  {
   "cell_type": "code",
   "execution_count": 37,
   "metadata": {},
   "outputs": [],
   "source": [
    "model = AutoModelForTokenClassification.from_pretrained(\"lwachowiak/Metaphor-Detection-XLMR\")\n",
    "tokenizer = AutoTokenizer.from_pretrained(\"lwachowiak/Metaphor-Detection-XLMR\")\n",
    "metaphor_pipeline = pipeline(\"ner\", model=model, tokenizer=tokenizer, aggregation_strategy=\"simple\")\n",
    "\n",
    "def count_label_1(entities):\n",
    "        count = 0\n",
    "        for entity in entities:\n",
    "            if entity['entity_group'] == 'LABEL_1':\n",
    "                count += 1\n",
    "        return count"
   ]
  },
  {
   "cell_type": "code",
   "execution_count": 38,
   "metadata": {},
   "outputs": [
    {
     "data": {
      "text/html": [
       "<div>\n",
       "<style scoped>\n",
       "    .dataframe tbody tr th:only-of-type {\n",
       "        vertical-align: middle;\n",
       "    }\n",
       "\n",
       "    .dataframe tbody tr th {\n",
       "        vertical-align: top;\n",
       "    }\n",
       "\n",
       "    .dataframe thead th {\n",
       "        text-align: right;\n",
       "    }\n",
       "</style>\n",
       "<table border=\"1\" class=\"dataframe\">\n",
       "  <thead>\n",
       "    <tr style=\"text-align: right;\">\n",
       "      <th></th>\n",
       "      <th>annotator</th>\n",
       "      <th>sentence_number</th>\n",
       "      <th>text</th>\n",
       "      <th>label</th>\n",
       "    </tr>\n",
       "  </thead>\n",
       "  <tbody>\n",
       "    <tr>\n",
       "      <th>0</th>\n",
       "      <td>dr_s</td>\n",
       "      <td>1</td>\n",
       "      <td>In these times of ours, though concerning the ...</td>\n",
       "      <td>m</td>\n",
       "    </tr>\n",
       "    <tr>\n",
       "      <th>1</th>\n",
       "      <td>dr_s</td>\n",
       "      <td>2</td>\n",
       "      <td>The figures in this boat were those of a stron...</td>\n",
       "      <td>l</td>\n",
       "    </tr>\n",
       "    <tr>\n",
       "      <th>2</th>\n",
       "      <td>dr_s</td>\n",
       "      <td>3</td>\n",
       "      <td>The girl rowed, pulling a pair of sculls very ...</td>\n",
       "      <td>l</td>\n",
       "    </tr>\n",
       "    <tr>\n",
       "      <th>3</th>\n",
       "      <td>dr_s</td>\n",
       "      <td>4</td>\n",
       "      <td>He had no net, hook, or line, and he could not...</td>\n",
       "      <td>l</td>\n",
       "    </tr>\n",
       "    <tr>\n",
       "      <th>4</th>\n",
       "      <td>dr_s</td>\n",
       "      <td>5</td>\n",
       "      <td>The tide, which had turned an hour before, was...</td>\n",
       "      <td>l</td>\n",
       "    </tr>\n",
       "  </tbody>\n",
       "</table>\n",
       "</div>"
      ],
      "text/plain": [
       "  annotator  sentence_number  \\\n",
       "0      dr_s                1   \n",
       "1      dr_s                2   \n",
       "2      dr_s                3   \n",
       "3      dr_s                4   \n",
       "4      dr_s                5   \n",
       "\n",
       "                                                text label  \n",
       "0  In these times of ours, though concerning the ...     m  \n",
       "1  The figures in this boat were those of a stron...     l  \n",
       "2  The girl rowed, pulling a pair of sculls very ...     l  \n",
       "3  He had no net, hook, or line, and he could not...     l  \n",
       "4  The tide, which had turned an hour before, was...     l  "
      ]
     },
     "execution_count": 38,
     "metadata": {},
     "output_type": "execute_result"
    }
   ],
   "source": [
    "df.head()"
   ]
  },
  {
   "cell_type": "code",
   "execution_count": 39,
   "metadata": {},
   "outputs": [],
   "source": [
    "df['annotator'] = \"model\""
   ]
  },
  {
   "cell_type": "code",
   "execution_count": 40,
   "metadata": {},
   "outputs": [],
   "source": [
    "df.drop(columns='label', inplace=True)"
   ]
  },
  {
   "cell_type": "code",
   "execution_count": 41,
   "metadata": {},
   "outputs": [
    {
     "data": {
      "text/html": [
       "<div>\n",
       "<style scoped>\n",
       "    .dataframe tbody tr th:only-of-type {\n",
       "        vertical-align: middle;\n",
       "    }\n",
       "\n",
       "    .dataframe tbody tr th {\n",
       "        vertical-align: top;\n",
       "    }\n",
       "\n",
       "    .dataframe thead th {\n",
       "        text-align: right;\n",
       "    }\n",
       "</style>\n",
       "<table border=\"1\" class=\"dataframe\">\n",
       "  <thead>\n",
       "    <tr style=\"text-align: right;\">\n",
       "      <th></th>\n",
       "      <th>annotator</th>\n",
       "      <th>sentence_number</th>\n",
       "      <th>text</th>\n",
       "    </tr>\n",
       "  </thead>\n",
       "  <tbody>\n",
       "    <tr>\n",
       "      <th>0</th>\n",
       "      <td>model</td>\n",
       "      <td>1</td>\n",
       "      <td>In these times of ours, though concerning the ...</td>\n",
       "    </tr>\n",
       "    <tr>\n",
       "      <th>1</th>\n",
       "      <td>model</td>\n",
       "      <td>2</td>\n",
       "      <td>The figures in this boat were those of a stron...</td>\n",
       "    </tr>\n",
       "    <tr>\n",
       "      <th>2</th>\n",
       "      <td>model</td>\n",
       "      <td>3</td>\n",
       "      <td>The girl rowed, pulling a pair of sculls very ...</td>\n",
       "    </tr>\n",
       "    <tr>\n",
       "      <th>3</th>\n",
       "      <td>model</td>\n",
       "      <td>4</td>\n",
       "      <td>He had no net, hook, or line, and he could not...</td>\n",
       "    </tr>\n",
       "    <tr>\n",
       "      <th>4</th>\n",
       "      <td>model</td>\n",
       "      <td>5</td>\n",
       "      <td>The tide, which had turned an hour before, was...</td>\n",
       "    </tr>\n",
       "  </tbody>\n",
       "</table>\n",
       "</div>"
      ],
      "text/plain": [
       "  annotator  sentence_number  \\\n",
       "0     model                1   \n",
       "1     model                2   \n",
       "2     model                3   \n",
       "3     model                4   \n",
       "4     model                5   \n",
       "\n",
       "                                                text  \n",
       "0  In these times of ours, though concerning the ...  \n",
       "1  The figures in this boat were those of a stron...  \n",
       "2  The girl rowed, pulling a pair of sculls very ...  \n",
       "3  He had no net, hook, or line, and he could not...  \n",
       "4  The tide, which had turned an hour before, was...  "
      ]
     },
     "execution_count": 41,
     "metadata": {},
     "output_type": "execute_result"
    }
   ],
   "source": [
    "df.head()"
   ]
  },
  {
   "cell_type": "code",
   "execution_count": 42,
   "metadata": {},
   "outputs": [
    {
     "data": {
      "text/html": [
       "<div>\n",
       "<style scoped>\n",
       "    .dataframe tbody tr th:only-of-type {\n",
       "        vertical-align: middle;\n",
       "    }\n",
       "\n",
       "    .dataframe tbody tr th {\n",
       "        vertical-align: top;\n",
       "    }\n",
       "\n",
       "    .dataframe thead th {\n",
       "        text-align: right;\n",
       "    }\n",
       "</style>\n",
       "<table border=\"1\" class=\"dataframe\">\n",
       "  <thead>\n",
       "    <tr style=\"text-align: right;\">\n",
       "      <th></th>\n",
       "      <th>annotator</th>\n",
       "      <th>sentence_number</th>\n",
       "      <th>text</th>\n",
       "      <th>model_entities</th>\n",
       "      <th>label</th>\n",
       "    </tr>\n",
       "  </thead>\n",
       "  <tbody>\n",
       "    <tr>\n",
       "      <th>0</th>\n",
       "      <td>model</td>\n",
       "      <td>1</td>\n",
       "      <td>In these times of ours, though concerning the ...</td>\n",
       "      <td>[{'entity_group': 'LABEL_1', 'score': 0.999911...</td>\n",
       "      <td>m</td>\n",
       "    </tr>\n",
       "    <tr>\n",
       "      <th>1</th>\n",
       "      <td>model</td>\n",
       "      <td>2</td>\n",
       "      <td>The figures in this boat were those of a stron...</td>\n",
       "      <td>[{'entity_group': 'LABEL_0', 'score': 0.999963...</td>\n",
       "      <td>m</td>\n",
       "    </tr>\n",
       "    <tr>\n",
       "      <th>2</th>\n",
       "      <td>model</td>\n",
       "      <td>3</td>\n",
       "      <td>The girl rowed, pulling a pair of sculls very ...</td>\n",
       "      <td>[{'entity_group': 'LABEL_0', 'score': 0.999653...</td>\n",
       "      <td>m</td>\n",
       "    </tr>\n",
       "    <tr>\n",
       "      <th>3</th>\n",
       "      <td>model</td>\n",
       "      <td>4</td>\n",
       "      <td>He had no net, hook, or line, and he could not...</td>\n",
       "      <td>[{'entity_group': 'LABEL_0', 'score': 0.997913...</td>\n",
       "      <td>m</td>\n",
       "    </tr>\n",
       "    <tr>\n",
       "      <th>4</th>\n",
       "      <td>model</td>\n",
       "      <td>5</td>\n",
       "      <td>The tide, which had turned an hour before, was...</td>\n",
       "      <td>[{'entity_group': 'LABEL_0', 'score': 0.999087...</td>\n",
       "      <td>m</td>\n",
       "    </tr>\n",
       "  </tbody>\n",
       "</table>\n",
       "</div>"
      ],
      "text/plain": [
       "  annotator  sentence_number  \\\n",
       "0     model                1   \n",
       "1     model                2   \n",
       "2     model                3   \n",
       "3     model                4   \n",
       "4     model                5   \n",
       "\n",
       "                                                text  \\\n",
       "0  In these times of ours, though concerning the ...   \n",
       "1  The figures in this boat were those of a stron...   \n",
       "2  The girl rowed, pulling a pair of sculls very ...   \n",
       "3  He had no net, hook, or line, and he could not...   \n",
       "4  The tide, which had turned an hour before, was...   \n",
       "\n",
       "                                      model_entities label  \n",
       "0  [{'entity_group': 'LABEL_1', 'score': 0.999911...     m  \n",
       "1  [{'entity_group': 'LABEL_0', 'score': 0.999963...     m  \n",
       "2  [{'entity_group': 'LABEL_0', 'score': 0.999653...     m  \n",
       "3  [{'entity_group': 'LABEL_0', 'score': 0.997913...     m  \n",
       "4  [{'entity_group': 'LABEL_0', 'score': 0.999087...     m  "
      ]
     },
     "execution_count": 42,
     "metadata": {},
     "output_type": "execute_result"
    }
   ],
   "source": [
    "df['model_entities'] = df['text'].apply(lambda x: metaphor_pipeline(x))\n",
    "df['label'] = df['model_entities'].apply(count_label_1).apply(lambda x: 'm' if x > 0 else 'l')\n",
    "df.head()"
   ]
  },
  {
   "cell_type": "code",
   "execution_count": 43,
   "metadata": {},
   "outputs": [
    {
     "data": {
      "text/plain": [
       "<AxesSubplot:>"
      ]
     },
     "execution_count": 43,
     "metadata": {},
     "output_type": "execute_result"
    },
    {
     "data": {
      "image/png": "[encoded data removed]",
      "text/plain": [
       "<Figure size 432x288 with 1 Axes>"
      ]
     },
     "metadata": {
      "needs_background": "light"
     },
     "output_type": "display_data"
    }
   ],
   "source": [
    "df['label'].value_counts().plot(kind='bar')"
   ]
  },
  {
   "cell_type": "code",
   "execution_count": 44,
   "metadata": {},
   "outputs": [
    {
     "name": "stdout",
     "output_type": "stream",
     "text": [
      "1.4.2\n"
     ]
    }
   ],
   "source": [
    "print(pd.__version__)"
   ]
  },
  {
   "cell_type": "code",
   "execution_count": 52,
   "metadata": {},
   "outputs": [],
   "source": [
    "df.to_json('our_mutual_friend_model_annotations.json', orient='records', lines=True)"
   ]
  },
  {
   "cell_type": "code",
   "execution_count": 47,
   "metadata": {},
   "outputs": [],
   "source": [
    "with open('annotated_data/our_mutual_friend_model_annotations.jsonl') as f:\n",
    "    lines = f.readlines()\n",
    "\n",
    "with open(\"annotated_data/our_mutual_friend_model_annotations.jsonl\", 'w') as f:\n",
    "    for line in lines:\n",
    "        f.write(line + '\\n')"
   ]
  },
  {
   "cell_type": "code",
   "execution_count": 48,
   "metadata": {},
   "outputs": [
    {
     "data": {
      "text/html": [
       "<div>\n",
       "<style scoped>\n",
       "    .dataframe tbody tr th:only-of-type {\n",
       "        vertical-align: middle;\n",
       "    }\n",
       "\n",
       "    .dataframe tbody tr th {\n",
       "        vertical-align: top;\n",
       "    }\n",
       "\n",
       "    .dataframe thead th {\n",
       "        text-align: right;\n",
       "    }\n",
       "</style>\n",
       "<table border=\"1\" class=\"dataframe\">\n",
       "  <thead>\n",
       "    <tr style=\"text-align: right;\">\n",
       "      <th></th>\n",
       "      <th>annotator</th>\n",
       "      <th>sentence_number</th>\n",
       "      <th>text</th>\n",
       "      <th>model_entities</th>\n",
       "      <th>annotator_label</th>\n",
       "    </tr>\n",
       "  </thead>\n",
       "  <tbody>\n",
       "    <tr>\n",
       "      <th>0</th>\n",
       "      <td>model</td>\n",
       "      <td>1</td>\n",
       "      <td>In these times of ours, though concerning the ...</td>\n",
       "      <td>[{'entity_group': 'LABEL_1', 'score': 0.999911...</td>\n",
       "      <td>m</td>\n",
       "    </tr>\n",
       "    <tr>\n",
       "      <th>1</th>\n",
       "      <td>model</td>\n",
       "      <td>2</td>\n",
       "      <td>The figures in this boat were those of a stron...</td>\n",
       "      <td>[{'entity_group': 'LABEL_0', 'score': 0.999963...</td>\n",
       "      <td>m</td>\n",
       "    </tr>\n",
       "    <tr>\n",
       "      <th>2</th>\n",
       "      <td>model</td>\n",
       "      <td>3</td>\n",
       "      <td>The girl rowed, pulling a pair of sculls very ...</td>\n",
       "      <td>[{'entity_group': 'LABEL_0', 'score': 0.999653...</td>\n",
       "      <td>m</td>\n",
       "    </tr>\n",
       "    <tr>\n",
       "      <th>3</th>\n",
       "      <td>model</td>\n",
       "      <td>4</td>\n",
       "      <td>He had no net, hook, or line, and he could not...</td>\n",
       "      <td>[{'entity_group': 'LABEL_0', 'score': 0.997913...</td>\n",
       "      <td>m</td>\n",
       "    </tr>\n",
       "    <tr>\n",
       "      <th>4</th>\n",
       "      <td>model</td>\n",
       "      <td>5</td>\n",
       "      <td>The tide, which had turned an hour before, was...</td>\n",
       "      <td>[{'entity_group': 'LABEL_0', 'score': 0.999087...</td>\n",
       "      <td>m</td>\n",
       "    </tr>\n",
       "  </tbody>\n",
       "</table>\n",
       "</div>"
      ],
      "text/plain": [
       "  annotator  sentence_number  \\\n",
       "0     model                1   \n",
       "1     model                2   \n",
       "2     model                3   \n",
       "3     model                4   \n",
       "4     model                5   \n",
       "\n",
       "                                                text  \\\n",
       "0  In these times of ours, though concerning the ...   \n",
       "1  The figures in this boat were those of a stron...   \n",
       "2  The girl rowed, pulling a pair of sculls very ...   \n",
       "3  He had no net, hook, or line, and he could not...   \n",
       "4  The tide, which had turned an hour before, was...   \n",
       "\n",
       "                                      model_entities annotator_label  \n",
       "0  [{'entity_group': 'LABEL_1', 'score': 0.999911...               m  \n",
       "1  [{'entity_group': 'LABEL_0', 'score': 0.999963...               m  \n",
       "2  [{'entity_group': 'LABEL_0', 'score': 0.999653...               m  \n",
       "3  [{'entity_group': 'LABEL_0', 'score': 0.997913...               m  \n",
       "4  [{'entity_group': 'LABEL_0', 'score': 0.999087...               m  "
      ]
     },
     "execution_count": 48,
     "metadata": {},
     "output_type": "execute_result"
    }
   ],
   "source": [
    "dr_s_df = pd.read_json('annotated_data/our_mutual_friend_dr_s_annotations.jsonl', lines=True)\n",
    "combined_df = pd.concat([df, dr_s_df])\n",
    "combined_df = combined_df.rename(columns={'label': 'annotator_label'})\n",
    "combined_df.head()"
   ]
  },
  {
   "cell_type": "code",
   "execution_count": 50,
   "metadata": {},
   "outputs": [
    {
     "data": {
      "image/png": "[encoded data removed]",
      "text/plain": [
       "<Figure size 432x288 with 1 Axes>"
      ]
     },
     "metadata": {
      "needs_background": "light"
     },
     "output_type": "display_data"
    }
   ],
   "source": [
    "# group by 'annotator' and 'annotator_label' columns and count the occurrences of each label\n",
    "grouped = combined_df.groupby(['annotator', 'annotator_label']).size().reset_index(name='counts')\n",
    "\n",
    "# pivot the data so that each annotator is a column\n",
    "pivoted = grouped.pivot(index='annotator_label', columns='annotator', values='counts')\n",
    "\n",
    "# create a bar plot\n",
    "pivoted.plot.bar()\n",
    "\n",
    "# add x and y labels\n",
    "plt.xlabel('Annotator Label')\n",
    "plt.xticks(rotation = 360)\n",
    "plt.ylabel('Count')\n",
    "plt.legend(loc='best')\n",
    "\n",
    "# show plot\n",
    "plt.show()\n"
   ]
  }
 ],
 "metadata": {
  "kernelspec": {
   "display_name": "base",
   "language": "python",
   "name": "python3"
  },
  "language_info": {
   "codemirror_mode": {
    "name": "ipython",
    "version": 3
   },
   "file_extension": ".py",
   "mimetype": "text/x-python",
   "name": "python",
   "nbconvert_exporter": "python",
   "pygments_lexer": "ipython3",
   "version": "3.9.12"
  },
  "orig_nbformat": 4,
  "vscode": {
   "interpreter": {
    "hash": "19e56c70b3071a7c9e5271d6c05d63446be4cb37f733ae995dda36f1f67e797e"
   }
  }
 },
 "nbformat": 4,
 "nbformat_minor": 2
}
